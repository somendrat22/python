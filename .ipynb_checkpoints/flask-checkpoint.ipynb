{
 "cells": [
  {
   "cell_type": "code",
   "execution_count": 1,
   "metadata": {},
   "outputs": [],
   "source": [
    "from flask import Flask, request, render_template"
   ]
  },
  {
   "cell_type": "code",
   "execution_count": 2,
   "metadata": {},
   "outputs": [],
   "source": [
    "app = Flask(\"Delhi\")"
   ]
  },
  {
   "cell_type": "code",
   "execution_count": null,
   "metadata": {},
   "outputs": [
    {
     "name": "stdout",
     "output_type": "stream",
     "text": [
      " * Serving Flask app \"Delhi\" (lazy loading)\n",
      " * Environment: production\n",
      "   WARNING: Do not use the development server in a production environment.\n",
      "   Use a production WSGI server instead.\n",
      " * Debug mode: off\n"
     ]
    },
    {
     "name": "stderr",
     "output_type": "stream",
     "text": [
      " * Running on http://127.0.0.1:5000/ (Press CTRL+C to quit)\n",
      "127.0.0.1 - - [13/Apr/2020 19:29:16] \"GET / HTTP/1.1\" 200 -\n",
      "127.0.0.1 - - [13/Apr/2020 19:29:19] \"GET /static/d.jpg HTTP/1.1\" 200 -\n",
      "127.0.0.1 - - [13/Apr/2020 19:29:19] \"GET /static/c.jpg HTTP/1.1\" 200 -\n",
      "127.0.0.1 - - [13/Apr/2020 19:29:19] \"GET /static/b.jpg HTTP/1.1\" 200 -\n",
      "127.0.0.1 - - [13/Apr/2020 19:29:19] \"GET /static/g.jpg HTTP/1.1\" 200 -\n",
      "127.0.0.1 - - [13/Apr/2020 19:29:19] \"GET /static/f.jpg HTTP/1.1\" 200 -\n",
      "127.0.0.1 - - [13/Apr/2020 19:29:19] \"GET /static/i.jpg HTTP/1.1\" 200 -\n",
      "127.0.0.1 - - [13/Apr/2020 19:29:19] \"GET /static/h.jpg HTTP/1.1\" 200 -\n",
      "127.0.0.1 - - [13/Apr/2020 19:29:19] \"GET /static/e.jpg HTTP/1.1\" 200 -\n",
      "127.0.0.1 - - [13/Apr/2020 19:29:20] \"GET /static/a.jpg HTTP/1.1\" 200 -\n",
      "127.0.0.1 - - [13/Apr/2020 19:29:22] \"GET /favicon.ico HTTP/1.1\" 404 -\n",
      "127.0.0.1 - - [13/Apr/2020 19:32:06] \"GET /New%20Delhi HTTP/1.1\" 404 -\n",
      "127.0.0.1 - - [13/Apr/2020 19:32:06] \"GET /favicon.ico HTTP/1.1\" 404 -\n",
      "127.0.0.1 - - [13/Apr/2020 19:32:58] \"GET / HTTP/1.1\" 200 -\n",
      "127.0.0.1 - - [13/Apr/2020 19:33:06] \"GET /static/b.jpg HTTP/1.1\" 200 -\n",
      "127.0.0.1 - - [13/Apr/2020 19:33:06] \"GET /static/c.jpg HTTP/1.1\" 200 -\n",
      "127.0.0.1 - - [13/Apr/2020 19:33:07] \"GET /static/d.jpg HTTP/1.1\" 200 -\n",
      "127.0.0.1 - - [13/Apr/2020 19:33:07] \"GET /static/e.jpg HTTP/1.1\" 200 -\n",
      "127.0.0.1 - - [13/Apr/2020 19:33:07] \"GET /static/f.jpg HTTP/1.1\" 200 -\n",
      "127.0.0.1 - - [13/Apr/2020 19:33:07] \"GET /static/g.jpg HTTP/1.1\" 200 -\n",
      "127.0.0.1 - - [13/Apr/2020 19:33:07] \"GET /static/h.jpg HTTP/1.1\" 200 -\n",
      "127.0.0.1 - - [13/Apr/2020 19:33:07] \"GET /static/i.jpg HTTP/1.1\" 200 -\n",
      "127.0.0.1 - - [13/Apr/2020 19:33:08] \"GET /static/a.jpg HTTP/1.1\" 200 -\n",
      "127.0.0.1 - - [13/Apr/2020 20:40:26] \"GET /New%20Delhi HTTP/1.1\" 404 -\n",
      "127.0.0.1 - - [13/Apr/2020 20:40:26] \"GET /New%20Delhi HTTP/1.1\" 404 -\n",
      "127.0.0.1 - - [13/Apr/2020 21:37:48] \"GET / HTTP/1.1\" 200 -\n",
      "127.0.0.1 - - [13/Apr/2020 22:42:12] \"GET / HTTP/1.1\" 200 -\n",
      "127.0.0.1 - - [13/Apr/2020 22:42:15] \"GET /static/c.jpg HTTP/1.1\" 404 -\n",
      "127.0.0.1 - - [13/Apr/2020 22:42:15] \"GET /static/e.jpg HTTP/1.1\" 404 -\n",
      "127.0.0.1 - - [13/Apr/2020 22:42:15] \"GET /static/b.jpg HTTP/1.1\" 404 -\n",
      "127.0.0.1 - - [13/Apr/2020 22:42:15] \"GET /static/f.jpg HTTP/1.1\" 404 -\n",
      "127.0.0.1 - - [13/Apr/2020 22:42:15] \"GET /static/d.jpg HTTP/1.1\" 404 -\n",
      "127.0.0.1 - - [13/Apr/2020 22:42:15] \"GET /static/g.jpg HTTP/1.1\" 404 -\n",
      "127.0.0.1 - - [13/Apr/2020 22:42:16] \"GET /static/a.jpg HTTP/1.1\" 404 -\n",
      "127.0.0.1 - - [13/Apr/2020 22:42:19] \"GET /static/h.jpg HTTP/1.1\" 404 -\n",
      "127.0.0.1 - - [13/Apr/2020 22:42:19] \"GET /static/i.jpg HTTP/1.1\" 404 -\n",
      "127.0.0.1 - - [13/Apr/2020 22:42:19] \"GET /favicon.ico HTTP/1.1\" 404 -\n"
     ]
    }
   ],
   "source": [
    " @app.route(\"/\")\n",
    " def home():\n",
    "        return render_template(\"home.html\")\n",
    " app.run()"
   ]
  },
  {
   "cell_type": "code",
   "execution_count": null,
   "metadata": {},
   "outputs": [],
   "source": []
  }
 ],
 "metadata": {
  "kernelspec": {
   "display_name": "Python 3",
   "language": "python",
   "name": "python3"
  },
  "language_info": {
   "codemirror_mode": {
    "name": "ipython",
    "version": 3
   },
   "file_extension": ".py",
   "mimetype": "text/x-python",
   "name": "python",
   "nbconvert_exporter": "python",
   "pygments_lexer": "ipython3",
   "version": "3.7.3"
  }
 },
 "nbformat": 4,
 "nbformat_minor": 2
}
